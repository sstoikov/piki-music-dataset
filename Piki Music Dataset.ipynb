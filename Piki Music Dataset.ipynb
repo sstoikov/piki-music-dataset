{
 "cells": [
  {
   "cell_type": "code",
   "execution_count": 1,
   "metadata": {},
   "outputs": [
    {
     "name": "stdout",
     "output_type": "stream",
     "text": [
      "2.27.1\n"
     ]
    }
   ],
   "source": [
    "from requests import get\n",
    "from requests.exceptions import RequestException\n",
    "from contextlib import closing\n",
    "from bs4 import BeautifulSoup\n",
    "import json\n",
    "import requests\n",
    "print(requests.__version__)\n",
    "import csv\n",
    "import pandas as pd\n",
    "import matplotlib.pyplot as plt\n",
    "import numpy as np\n",
    "import statistics\n",
    "%matplotlib inline"
   ]
  },
  {
   "cell_type": "markdown",
   "metadata": {},
   "source": [
    "# Loading the data and exploring high level features"
   ]
  },
  {
   "cell_type": "code",
   "execution_count": 25,
   "metadata": {},
   "outputs": [],
   "source": [
    "df=pd.read_csv('data/piki_dataset.csv')"
   ]
  },
  {
   "cell_type": "code",
   "execution_count": 67,
   "metadata": {
    "collapsed": true
   },
   "outputs": [],
   "source": [
    "df['year'] = pd.DatetimeIndex(df['timestamp']).year\n",
    "df['month'] = pd.DatetimeIndex(df['timestamp']).month\n",
    "df['superliked']=(df['liked']>1)*1\n",
    "df['like_superlike']=(df['liked']>0)*1"
   ]
  },
  {
   "cell_type": "code",
   "execution_count": 68,
   "metadata": {},
   "outputs": [
    {
     "data": {
      "text/html": [
       "<div>\n",
       "<style scoped>\n",
       "    .dataframe tbody tr th:only-of-type {\n",
       "        vertical-align: middle;\n",
       "    }\n",
       "\n",
       "    .dataframe tbody tr th {\n",
       "        vertical-align: top;\n",
       "    }\n",
       "\n",
       "    .dataframe thead th {\n",
       "        text-align: right;\n",
       "    }\n",
       "</style>\n",
       "<table border=\"1\" class=\"dataframe\">\n",
       "  <thead>\n",
       "    <tr style=\"text-align: right;\">\n",
       "      <th></th>\n",
       "      <th>Unnamed: 0</th>\n",
       "      <th>timestamp</th>\n",
       "      <th>user_id</th>\n",
       "      <th>song_id</th>\n",
       "      <th>liked</th>\n",
       "      <th>personalized</th>\n",
       "      <th>spotify_popularity</th>\n",
       "      <th>treatment_group</th>\n",
       "      <th>year</th>\n",
       "      <th>month</th>\n",
       "      <th>like_superlike</th>\n",
       "      <th>superlike</th>\n",
       "      <th>superliked</th>\n",
       "    </tr>\n",
       "  </thead>\n",
       "  <tbody>\n",
       "    <tr>\n",
       "      <th>1762497</th>\n",
       "      <td>1762497</td>\n",
       "      <td>2023-07-06 14:48:11</td>\n",
       "      <td>3744464</td>\n",
       "      <td>8075471</td>\n",
       "      <td>0</td>\n",
       "      <td>1</td>\n",
       "      <td>57</td>\n",
       "      <td>4</td>\n",
       "      <td>2023</td>\n",
       "      <td>7</td>\n",
       "      <td>0</td>\n",
       "      <td>0</td>\n",
       "      <td>0</td>\n",
       "    </tr>\n",
       "    <tr>\n",
       "      <th>1762498</th>\n",
       "      <td>1762498</td>\n",
       "      <td>2023-07-06 14:48:18</td>\n",
       "      <td>3744464</td>\n",
       "      <td>8084691</td>\n",
       "      <td>0</td>\n",
       "      <td>1</td>\n",
       "      <td>78</td>\n",
       "      <td>4</td>\n",
       "      <td>2023</td>\n",
       "      <td>7</td>\n",
       "      <td>0</td>\n",
       "      <td>0</td>\n",
       "      <td>0</td>\n",
       "    </tr>\n",
       "    <tr>\n",
       "      <th>1762499</th>\n",
       "      <td>1762499</td>\n",
       "      <td>2023-07-06 14:48:25</td>\n",
       "      <td>3744464</td>\n",
       "      <td>5395224</td>\n",
       "      <td>0</td>\n",
       "      <td>1</td>\n",
       "      <td>68</td>\n",
       "      <td>4</td>\n",
       "      <td>2023</td>\n",
       "      <td>7</td>\n",
       "      <td>0</td>\n",
       "      <td>0</td>\n",
       "      <td>0</td>\n",
       "    </tr>\n",
       "    <tr>\n",
       "      <th>1762500</th>\n",
       "      <td>1762500</td>\n",
       "      <td>2023-07-06 14:48:32</td>\n",
       "      <td>3744464</td>\n",
       "      <td>4189432</td>\n",
       "      <td>0</td>\n",
       "      <td>1</td>\n",
       "      <td>22</td>\n",
       "      <td>4</td>\n",
       "      <td>2023</td>\n",
       "      <td>7</td>\n",
       "      <td>0</td>\n",
       "      <td>0</td>\n",
       "      <td>0</td>\n",
       "    </tr>\n",
       "    <tr>\n",
       "      <th>1762501</th>\n",
       "      <td>1762501</td>\n",
       "      <td>2023-07-06 14:48:39</td>\n",
       "      <td>3744464</td>\n",
       "      <td>1759114</td>\n",
       "      <td>0</td>\n",
       "      <td>1</td>\n",
       "      <td>65</td>\n",
       "      <td>4</td>\n",
       "      <td>2023</td>\n",
       "      <td>7</td>\n",
       "      <td>0</td>\n",
       "      <td>0</td>\n",
       "      <td>0</td>\n",
       "    </tr>\n",
       "  </tbody>\n",
       "</table>\n",
       "</div>"
      ],
      "text/plain": [
       "         Unnamed: 0            timestamp  user_id  song_id  liked  \\\n",
       "1762497     1762497  2023-07-06 14:48:11  3744464  8075471      0   \n",
       "1762498     1762498  2023-07-06 14:48:18  3744464  8084691      0   \n",
       "1762499     1762499  2023-07-06 14:48:25  3744464  5395224      0   \n",
       "1762500     1762500  2023-07-06 14:48:32  3744464  4189432      0   \n",
       "1762501     1762501  2023-07-06 14:48:39  3744464  1759114      0   \n",
       "\n",
       "         personalized  spotify_popularity  treatment_group  year  month  \\\n",
       "1762497             1                  57                4  2023      7   \n",
       "1762498             1                  78                4  2023      7   \n",
       "1762499             1                  68                4  2023      7   \n",
       "1762500             1                  22                4  2023      7   \n",
       "1762501             1                  65                4  2023      7   \n",
       "\n",
       "         like_superlike  superlike  superliked  \n",
       "1762497               0          0           0  \n",
       "1762498               0          0           0  \n",
       "1762499               0          0           0  \n",
       "1762500               0          0           0  \n",
       "1762501               0          0           0  "
      ]
     },
     "execution_count": 68,
     "metadata": {},
     "output_type": "execute_result"
    }
   ],
   "source": [
    "df.tail()"
   ]
  },
  {
   "cell_type": "code",
   "execution_count": 69,
   "metadata": {},
   "outputs": [
    {
     "name": "stdout",
     "output_type": "stream",
     "text": [
      "1762502\n"
     ]
    }
   ],
   "source": [
    "num_ratings=len(df)\n",
    "print(num_ratings)"
   ]
  },
  {
   "cell_type": "code",
   "execution_count": 70,
   "metadata": {
    "collapsed": true
   },
   "outputs": [],
   "source": [
    "users=df.groupby('user_id').mean()['like_superlike']\n",
    "songs=df.groupby('song_id').mean()['like_superlike']"
   ]
  },
  {
   "cell_type": "code",
   "execution_count": 71,
   "metadata": {},
   "outputs": [
    {
     "name": "stdout",
     "output_type": "stream",
     "text": [
      "8896\n"
     ]
    }
   ],
   "source": [
    "num_users=len(users)\n",
    "print(num_users)"
   ]
  },
  {
   "cell_type": "code",
   "execution_count": 72,
   "metadata": {},
   "outputs": [
    {
     "data": {
      "text/plain": [
       "198.12297661870502"
      ]
     },
     "execution_count": 72,
     "metadata": {},
     "output_type": "execute_result"
    }
   ],
   "source": [
    "num_ratings/num_users"
   ]
  },
  {
   "cell_type": "code",
   "execution_count": 73,
   "metadata": {},
   "outputs": [
    {
     "data": {
      "text/plain": [
       "0.5294860255601175"
      ]
     },
     "execution_count": 73,
     "metadata": {},
     "output_type": "execute_result"
    }
   ],
   "source": [
    "users.mean()"
   ]
  },
  {
   "cell_type": "code",
   "execution_count": 74,
   "metadata": {},
   "outputs": [
    {
     "name": "stdout",
     "output_type": "stream",
     "text": [
      "246450\n"
     ]
    }
   ],
   "source": [
    "num_songs=len(songs)\n",
    "print(num_songs)"
   ]
  },
  {
   "cell_type": "code",
   "execution_count": 75,
   "metadata": {},
   "outputs": [
    {
     "data": {
      "text/plain": [
       "7.15156015418949"
      ]
     },
     "execution_count": 75,
     "metadata": {},
     "output_type": "execute_result"
    }
   ],
   "source": [
    "num_ratings/num_songs"
   ]
  },
  {
   "cell_type": "code",
   "execution_count": 76,
   "metadata": {},
   "outputs": [
    {
     "data": {
      "text/plain": [
       "0.3264590235175532"
      ]
     },
     "execution_count": 76,
     "metadata": {},
     "output_type": "execute_result"
    }
   ],
   "source": [
    "songs.mean()"
   ]
  },
  {
   "cell_type": "code",
   "execution_count": 77,
   "metadata": {
    "collapsed": true
   },
   "outputs": [],
   "source": [
    "users_rates=df.groupby('user_id').count()['song_id']\n",
    "songs_rates=df.groupby('song_id').count()['user_id']"
   ]
  },
  {
   "cell_type": "code",
   "execution_count": 78,
   "metadata": {},
   "outputs": [
    {
     "data": {
      "text/plain": [
       "6900"
      ]
     },
     "execution_count": 78,
     "metadata": {},
     "output_type": "execute_result"
    }
   ],
   "source": [
    "len(users_rates[users_rates>10])"
   ]
  },
  {
   "cell_type": "code",
   "execution_count": 79,
   "metadata": {},
   "outputs": [
    {
     "data": {
      "text/plain": [
       "27865"
      ]
     },
     "execution_count": 79,
     "metadata": {},
     "output_type": "execute_result"
    }
   ],
   "source": [
    "len(songs_rates[songs_rates>10])"
   ]
  },
  {
   "cell_type": "markdown",
   "metadata": {
    "collapsed": true
   },
   "source": [
    "# The role of the user feedback mechanism\n",
    "\n",
    "Voting timers are introduced on 2021-01-03\n",
    "\n",
    "Before this date, users may immediately vote like/dislike/superlike\n",
    "\n",
    "After this date, users must wait 3s to dislike, 6s to like and 12s to superlike"
   ]
  },
  {
   "cell_type": "code",
   "execution_count": 80,
   "metadata": {
    "collapsed": true
   },
   "outputs": [],
   "source": [
    "df_pre_timers=(df[((df['timestamp']<'2021-01-03'))])"
   ]
  },
  {
   "cell_type": "code",
   "execution_count": 81,
   "metadata": {},
   "outputs": [
    {
     "data": {
      "text/plain": [
       "0.44968105579351686"
      ]
     },
     "execution_count": 81,
     "metadata": {},
     "output_type": "execute_result"
    }
   ],
   "source": [
    "df_pre_timers['like_superlike'].mean()"
   ]
  },
  {
   "cell_type": "code",
   "execution_count": 82,
   "metadata": {
    "collapsed": true
   },
   "outputs": [],
   "source": [
    "df_post_timers=(df[((df['timestamp']>='2021-01-03'))])"
   ]
  },
  {
   "cell_type": "code",
   "execution_count": 83,
   "metadata": {},
   "outputs": [
    {
     "data": {
      "text/plain": [
       "0.43565820830214336"
      ]
     },
     "execution_count": 83,
     "metadata": {},
     "output_type": "execute_result"
    }
   ],
   "source": [
    "df_post_timers['like_superlike'].mean()"
   ]
  },
  {
   "cell_type": "markdown",
   "metadata": {},
   "source": [
    "average like rate went down after this feature was implemented"
   ]
  },
  {
   "cell_type": "code",
   "execution_count": 84,
   "metadata": {
    "collapsed": true
   },
   "outputs": [],
   "source": [
    "def plot_histograms(df,thresh_users,thresh_songs,bins):\n",
    "    users=df.groupby('user_id').mean()['like_superlike']\n",
    "    songs=df.groupby('song_id').mean()['like_superlike']\n",
    "    users_rates=df.groupby('user_id').count()['song_id']\n",
    "    songs_rates=df.groupby('song_id').count()['user_id']\n",
    "    users[users_rates[users_rates>thresh_users].index].hist(bins=bins)\n",
    "    plt.figure()\n",
    "    songs[songs_rates[songs_rates>thresh_songs].index].hist(bins=bins)"
   ]
  },
  {
   "cell_type": "code",
   "execution_count": 85,
   "metadata": {},
   "outputs": [
    {
     "data": {
      "image/png": "[encoded data removed]",
      "text/plain": [
       "<matplotlib.figure.Figure at 0x7f946ef7e9b0>"
      ]
     },
     "metadata": {},
     "output_type": "display_data"
    },
    {
     "data": {
      "image/png": "[encoded data removed]",
      "text/plain": [
       "<matplotlib.figure.Figure at 0x7f946f0876d8>"
      ]
     },
     "metadata": {},
     "output_type": "display_data"
    }
   ],
   "source": [
    "plot_histograms(df_pre_timers,10,10,20)"
   ]
  },
  {
   "cell_type": "markdown",
   "metadata": {},
   "source": [
    "before implementing timers:\n",
    "1) there is a significant proportion of users who like everything\n",
    "2) the song like-ratio is peaked at 0.5"
   ]
  },
  {
   "cell_type": "code",
   "execution_count": 86,
   "metadata": {},
   "outputs": [
    {
     "data": {
      "image/png": "[encoded data removed]",
      "text/plain": [
       "<matplotlib.figure.Figure at 0x7f940f1c91d0>"
      ]
     },
     "metadata": {},
     "output_type": "display_data"
    },
    {
     "data": {
      "image/png": "[encoded data removed]",
      "text/plain": [
       "<matplotlib.figure.Figure at 0x7f940f1dd240>"
      ]
     },
     "metadata": {},
     "output_type": "display_data"
    }
   ],
   "source": [
    "plot_histograms(df_post_timers,10,10,20)"
   ]
  },
  {
   "cell_type": "markdown",
   "metadata": {},
   "source": [
    "after implementing timers:\n",
    "1) users who like everything are greatly reduced\n",
    "2) the song like-ratio is peaked at 0.25 and has a longer right tail"
   ]
  },
  {
   "cell_type": "markdown",
   "metadata": {},
   "source": [
    "# The role of Spotify popularity\n",
    "Songs with higher Spotify popularity are more often liked. This provides a benchmark for the liked rate of a song, given the popularity of its artist. This may help better quantify the role of popularity biases"
   ]
  },
  {
   "cell_type": "code",
   "execution_count": 87,
   "metadata": {},
   "outputs": [
    {
     "data": {
      "text/plain": [
       "<matplotlib.axes._subplots.AxesSubplot at 0x7f946ef8ecf8>"
      ]
     },
     "execution_count": 87,
     "metadata": {},
     "output_type": "execute_result"
    },
    {
     "data": {
      "image/png": "[encoded data removed]",
      "text/plain": [
       "<matplotlib.figure.Figure at 0x7f946f131940>"
      ]
     },
     "metadata": {},
     "output_type": "display_data"
    }
   ],
   "source": [
    "# all songs\n",
    "df.groupby(['spotify_popularity']).mean()['liked'].plot()\n",
    "df.groupby(['spotify_popularity']).mean()['superliked'].plot()"
   ]
  },
  {
   "cell_type": "code",
   "execution_count": 90,
   "metadata": {},
   "outputs": [
    {
     "data": {
      "text/plain": [
       "<matplotlib.axes._subplots.AxesSubplot at 0x7f94642de0b8>"
      ]
     },
     "execution_count": 90,
     "metadata": {},
     "output_type": "execute_result"
    },
    {
     "data": {
      "image/png": "[encoded data removed]",
      "text/plain": [
       "<matplotlib.figure.Figure at 0x7f945f3b3128>"
      ]
     },
     "metadata": {},
     "output_type": "display_data"
    }
   ],
   "source": [
    "# all songs\n",
    "a=df[df['treatment_group']==4].groupby(['spotify_popularity']).mean()['liked']\n",
    "a.plot()\n",
    "b=df[df['treatment_group']==4].groupby(['spotify_popularity']).mean()['superliked']\n",
    "(b/a).plot()"
   ]
  },
  {
   "cell_type": "markdown",
   "metadata": {},
   "source": [
    "# The role of recommendations based on previous ratings\n",
    "\n",
    "Songs by artist that were previously liked (2) are better liked than personalized recommendations (1) are better liked than random recommendations (0)\n",
    "\n",
    "This provides a benchmark for comparing obvious recommendations (2) to less obvious recommendations (1), to more suprising recommendations outside of one's echo chamber (0)."
   ]
  },
  {
   "cell_type": "code",
   "execution_count": 24,
   "metadata": {},
   "outputs": [
    {
     "data": {
      "text/plain": [
       "<matplotlib.axes._subplots.AxesSubplot at 0x7f945f3028d0>"
      ]
     },
     "execution_count": 24,
     "metadata": {},
     "output_type": "execute_result"
    },
    {
     "data": {
      "image/png": "[encoded data removed]",
      "text/plain": [
       "<matplotlib.figure.Figure at 0x7f94991d5b70>"
      ]
     },
     "metadata": {},
     "output_type": "display_data"
    }
   ],
   "source": [
    "df.groupby(['personalized']).mean()['like_superlike'].plot.bar()"
   ]
  },
  {
   "cell_type": "code",
   "execution_count": 91,
   "metadata": {},
   "outputs": [
    {
     "data": {
      "text/plain": [
       "<matplotlib.axes._subplots.AxesSubplot at 0x7f945f3c9a58>"
      ]
     },
     "execution_count": 91,
     "metadata": {},
     "output_type": "execute_result"
    },
    {
     "data": {
      "image/png": "[encoded data removed]",
      "text/plain": [
       "<matplotlib.figure.Figure at 0x7f946f0a0438>"
      ]
     },
     "metadata": {},
     "output_type": "display_data"
    }
   ],
   "source": [
    "df[df['treatment_group']==4].groupby(['personalized']).mean()['like_superlike'].plot.bar()"
   ]
  },
  {
   "cell_type": "code",
   "execution_count": null,
   "metadata": {
    "collapsed": true
   },
   "outputs": [],
   "source": []
  }
 ],
 "metadata": {
  "kernelspec": {
   "display_name": "Python 3",
   "language": "python",
   "name": "python3"
  },
  "language_info": {
   "codemirror_mode": {
    "name": "ipython",
    "version": 3
   },
   "file_extension": ".py",
   "mimetype": "text/x-python",
   "name": "python",
   "nbconvert_exporter": "python",
   "pygments_lexer": "ipython3",
   "version": "3.6.9"
  }
 },
 "nbformat": 4,
 "nbformat_minor": 2
}
